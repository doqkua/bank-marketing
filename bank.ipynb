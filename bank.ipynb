{
 "cells": [
  {
   "cell_type": "code",
   "execution_count": 3,
   "metadata": {},
   "outputs": [
    {
     "data": {
      "text/html": [
       "<div>\n",
       "<style scoped>\n",
       "    .dataframe tbody tr th:only-of-type {\n",
       "        vertical-align: middle;\n",
       "    }\n",
       "\n",
       "    .dataframe tbody tr th {\n",
       "        vertical-align: top;\n",
       "    }\n",
       "\n",
       "    .dataframe thead th {\n",
       "        text-align: right;\n",
       "    }\n",
       "</style>\n",
       "<table border=\"1\" class=\"dataframe\">\n",
       "  <thead>\n",
       "    <tr style=\"text-align: right;\">\n",
       "      <th></th>\n",
       "      <th>age;\"job\";\"marital\";\"education\";\"default\";\"balance\";\"housing\";\"loan\";\"contact\";\"day\";\"month\";\"duration\";\"campaign\";\"pdays\";\"previous\";\"poutcome\";\"y\"</th>\n",
       "    </tr>\n",
       "  </thead>\n",
       "  <tbody>\n",
       "    <tr>\n",
       "      <th>0</th>\n",
       "      <td>58;\"management\";\"married\";\"tertiary\";\"no\";2143...</td>\n",
       "    </tr>\n",
       "    <tr>\n",
       "      <th>1</th>\n",
       "      <td>44;\"technician\";\"single\";\"secondary\";\"no\";29;\"...</td>\n",
       "    </tr>\n",
       "    <tr>\n",
       "      <th>2</th>\n",
       "      <td>33;\"entrepreneur\";\"married\";\"secondary\";\"no\";2...</td>\n",
       "    </tr>\n",
       "    <tr>\n",
       "      <th>3</th>\n",
       "      <td>47;\"blue-collar\";\"married\";\"unknown\";\"no\";1506...</td>\n",
       "    </tr>\n",
       "    <tr>\n",
       "      <th>4</th>\n",
       "      <td>33;\"unknown\";\"single\";\"unknown\";\"no\";1;\"no\";\"n...</td>\n",
       "    </tr>\n",
       "    <tr>\n",
       "      <th>...</th>\n",
       "      <td>...</td>\n",
       "    </tr>\n",
       "    <tr>\n",
       "      <th>45206</th>\n",
       "      <td>51;\"technician\";\"married\";\"tertiary\";\"no\";825;...</td>\n",
       "    </tr>\n",
       "    <tr>\n",
       "      <th>45207</th>\n",
       "      <td>71;\"retired\";\"divorced\";\"primary\";\"no\";1729;\"n...</td>\n",
       "    </tr>\n",
       "    <tr>\n",
       "      <th>45208</th>\n",
       "      <td>72;\"retired\";\"married\";\"secondary\";\"no\";5715;\"...</td>\n",
       "    </tr>\n",
       "    <tr>\n",
       "      <th>45209</th>\n",
       "      <td>57;\"blue-collar\";\"married\";\"secondary\";\"no\";66...</td>\n",
       "    </tr>\n",
       "    <tr>\n",
       "      <th>45210</th>\n",
       "      <td>37;\"entrepreneur\";\"married\";\"secondary\";\"no\";2...</td>\n",
       "    </tr>\n",
       "  </tbody>\n",
       "</table>\n",
       "<p>45211 rows × 1 columns</p>\n",
       "</div>"
      ],
      "text/plain": [
       "      age;\"job\";\"marital\";\"education\";\"default\";\"balance\";\"housing\";\"loan\";\"contact\";\"day\";\"month\";\"duration\";\"campaign\";\"pdays\";\"previous\";\"poutcome\";\"y\"\n",
       "0      58;\"management\";\"married\";\"tertiary\";\"no\";2143...                                                                                                  \n",
       "1      44;\"technician\";\"single\";\"secondary\";\"no\";29;\"...                                                                                                  \n",
       "2      33;\"entrepreneur\";\"married\";\"secondary\";\"no\";2...                                                                                                  \n",
       "3      47;\"blue-collar\";\"married\";\"unknown\";\"no\";1506...                                                                                                  \n",
       "4      33;\"unknown\";\"single\";\"unknown\";\"no\";1;\"no\";\"n...                                                                                                  \n",
       "...                                                  ...                                                                                                  \n",
       "45206  51;\"technician\";\"married\";\"tertiary\";\"no\";825;...                                                                                                  \n",
       "45207  71;\"retired\";\"divorced\";\"primary\";\"no\";1729;\"n...                                                                                                  \n",
       "45208  72;\"retired\";\"married\";\"secondary\";\"no\";5715;\"...                                                                                                  \n",
       "45209  57;\"blue-collar\";\"married\";\"secondary\";\"no\";66...                                                                                                  \n",
       "45210  37;\"entrepreneur\";\"married\";\"secondary\";\"no\";2...                                                                                                  \n",
       "\n",
       "[45211 rows x 1 columns]"
      ]
     },
     "execution_count": 3,
     "metadata": {},
     "output_type": "execute_result"
    }
   ],
   "source": [
    "import pandas as pd\n",
    "import numpy as np\n",
    "import matplotlib.pyplot as plt\n",
    "import seaborn as sns\n",
    "\n",
    "bank_data = pd.read_csv('bank-full.csv')\n",
    "bank_data "
   ]
  },
  {
   "cell_type": "code",
   "execution_count": 4,
   "metadata": {},
   "outputs": [],
   "source": [
    "elements = np.array(bank_data).tolist()\n",
    "split_data = [item[0].split(';') for item in elements]\n",
    "cleaned_data = [[element.strip('\"') for element in row] for row in split_data]"
   ]
  },
  {
   "cell_type": "code",
   "execution_count": 5,
   "metadata": {},
   "outputs": [
    {
     "data": {
      "text/plain": [
       "['age',\n",
       " 'job',\n",
       " 'marital',\n",
       " 'education',\n",
       " 'default',\n",
       " 'balance',\n",
       " 'housing',\n",
       " 'loan',\n",
       " 'contact',\n",
       " 'day',\n",
       " 'month',\n",
       " 'duration',\n",
       " 'campaign',\n",
       " 'pdays',\n",
       " 'previous',\n",
       " 'poutcome',\n",
       " 'y']"
      ]
     },
     "execution_count": 5,
     "metadata": {},
     "output_type": "execute_result"
    }
   ],
   "source": [
    "cols = '\"age\";\"job\";\"marital\";\"education\";\"default\";\"balance\";\"housing\";\"loan\";\"contact\";\"day\";\"month\";\"duration\";\"campaign\";\"pdays\";\"previous\";\"poutcome\";\"y\"'\n",
    "splitting_cols = cols.replace('\"', \"\").split(';')\n",
    "new_cols = list(splitting_cols)\n",
    "new_cols"
   ]
  },
  {
   "cell_type": "code",
   "execution_count": 6,
   "metadata": {},
   "outputs": [
    {
     "data": {
      "text/html": [
       "<div>\n",
       "<style scoped>\n",
       "    .dataframe tbody tr th:only-of-type {\n",
       "        vertical-align: middle;\n",
       "    }\n",
       "\n",
       "    .dataframe tbody tr th {\n",
       "        vertical-align: top;\n",
       "    }\n",
       "\n",
       "    .dataframe thead th {\n",
       "        text-align: right;\n",
       "    }\n",
       "</style>\n",
       "<table border=\"1\" class=\"dataframe\">\n",
       "  <thead>\n",
       "    <tr style=\"text-align: right;\">\n",
       "      <th></th>\n",
       "      <th>age</th>\n",
       "      <th>job</th>\n",
       "      <th>marital</th>\n",
       "      <th>education</th>\n",
       "      <th>default</th>\n",
       "      <th>balance</th>\n",
       "      <th>housing</th>\n",
       "      <th>loan</th>\n",
       "      <th>contact</th>\n",
       "      <th>day</th>\n",
       "      <th>month</th>\n",
       "      <th>duration</th>\n",
       "      <th>campaign</th>\n",
       "      <th>pdays</th>\n",
       "      <th>previous</th>\n",
       "      <th>poutcome</th>\n",
       "      <th>y</th>\n",
       "    </tr>\n",
       "  </thead>\n",
       "  <tbody>\n",
       "    <tr>\n",
       "      <th>0</th>\n",
       "      <td>58</td>\n",
       "      <td>management</td>\n",
       "      <td>married</td>\n",
       "      <td>tertiary</td>\n",
       "      <td>no</td>\n",
       "      <td>2143</td>\n",
       "      <td>yes</td>\n",
       "      <td>no</td>\n",
       "      <td>unknown</td>\n",
       "      <td>5</td>\n",
       "      <td>may</td>\n",
       "      <td>261</td>\n",
       "      <td>1</td>\n",
       "      <td>-1</td>\n",
       "      <td>0</td>\n",
       "      <td>unknown</td>\n",
       "      <td>no</td>\n",
       "    </tr>\n",
       "    <tr>\n",
       "      <th>1</th>\n",
       "      <td>44</td>\n",
       "      <td>technician</td>\n",
       "      <td>single</td>\n",
       "      <td>secondary</td>\n",
       "      <td>no</td>\n",
       "      <td>29</td>\n",
       "      <td>yes</td>\n",
       "      <td>no</td>\n",
       "      <td>unknown</td>\n",
       "      <td>5</td>\n",
       "      <td>may</td>\n",
       "      <td>151</td>\n",
       "      <td>1</td>\n",
       "      <td>-1</td>\n",
       "      <td>0</td>\n",
       "      <td>unknown</td>\n",
       "      <td>no</td>\n",
       "    </tr>\n",
       "    <tr>\n",
       "      <th>2</th>\n",
       "      <td>33</td>\n",
       "      <td>entrepreneur</td>\n",
       "      <td>married</td>\n",
       "      <td>secondary</td>\n",
       "      <td>no</td>\n",
       "      <td>2</td>\n",
       "      <td>yes</td>\n",
       "      <td>yes</td>\n",
       "      <td>unknown</td>\n",
       "      <td>5</td>\n",
       "      <td>may</td>\n",
       "      <td>76</td>\n",
       "      <td>1</td>\n",
       "      <td>-1</td>\n",
       "      <td>0</td>\n",
       "      <td>unknown</td>\n",
       "      <td>no</td>\n",
       "    </tr>\n",
       "    <tr>\n",
       "      <th>3</th>\n",
       "      <td>47</td>\n",
       "      <td>blue-collar</td>\n",
       "      <td>married</td>\n",
       "      <td>unknown</td>\n",
       "      <td>no</td>\n",
       "      <td>1506</td>\n",
       "      <td>yes</td>\n",
       "      <td>no</td>\n",
       "      <td>unknown</td>\n",
       "      <td>5</td>\n",
       "      <td>may</td>\n",
       "      <td>92</td>\n",
       "      <td>1</td>\n",
       "      <td>-1</td>\n",
       "      <td>0</td>\n",
       "      <td>unknown</td>\n",
       "      <td>no</td>\n",
       "    </tr>\n",
       "    <tr>\n",
       "      <th>4</th>\n",
       "      <td>33</td>\n",
       "      <td>unknown</td>\n",
       "      <td>single</td>\n",
       "      <td>unknown</td>\n",
       "      <td>no</td>\n",
       "      <td>1</td>\n",
       "      <td>no</td>\n",
       "      <td>no</td>\n",
       "      <td>unknown</td>\n",
       "      <td>5</td>\n",
       "      <td>may</td>\n",
       "      <td>198</td>\n",
       "      <td>1</td>\n",
       "      <td>-1</td>\n",
       "      <td>0</td>\n",
       "      <td>unknown</td>\n",
       "      <td>no</td>\n",
       "    </tr>\n",
       "    <tr>\n",
       "      <th>...</th>\n",
       "      <td>...</td>\n",
       "      <td>...</td>\n",
       "      <td>...</td>\n",
       "      <td>...</td>\n",
       "      <td>...</td>\n",
       "      <td>...</td>\n",
       "      <td>...</td>\n",
       "      <td>...</td>\n",
       "      <td>...</td>\n",
       "      <td>...</td>\n",
       "      <td>...</td>\n",
       "      <td>...</td>\n",
       "      <td>...</td>\n",
       "      <td>...</td>\n",
       "      <td>...</td>\n",
       "      <td>...</td>\n",
       "      <td>...</td>\n",
       "    </tr>\n",
       "    <tr>\n",
       "      <th>45206</th>\n",
       "      <td>51</td>\n",
       "      <td>technician</td>\n",
       "      <td>married</td>\n",
       "      <td>tertiary</td>\n",
       "      <td>no</td>\n",
       "      <td>825</td>\n",
       "      <td>no</td>\n",
       "      <td>no</td>\n",
       "      <td>cellular</td>\n",
       "      <td>17</td>\n",
       "      <td>nov</td>\n",
       "      <td>977</td>\n",
       "      <td>3</td>\n",
       "      <td>-1</td>\n",
       "      <td>0</td>\n",
       "      <td>unknown</td>\n",
       "      <td>yes</td>\n",
       "    </tr>\n",
       "    <tr>\n",
       "      <th>45207</th>\n",
       "      <td>71</td>\n",
       "      <td>retired</td>\n",
       "      <td>divorced</td>\n",
       "      <td>primary</td>\n",
       "      <td>no</td>\n",
       "      <td>1729</td>\n",
       "      <td>no</td>\n",
       "      <td>no</td>\n",
       "      <td>cellular</td>\n",
       "      <td>17</td>\n",
       "      <td>nov</td>\n",
       "      <td>456</td>\n",
       "      <td>2</td>\n",
       "      <td>-1</td>\n",
       "      <td>0</td>\n",
       "      <td>unknown</td>\n",
       "      <td>yes</td>\n",
       "    </tr>\n",
       "    <tr>\n",
       "      <th>45208</th>\n",
       "      <td>72</td>\n",
       "      <td>retired</td>\n",
       "      <td>married</td>\n",
       "      <td>secondary</td>\n",
       "      <td>no</td>\n",
       "      <td>5715</td>\n",
       "      <td>no</td>\n",
       "      <td>no</td>\n",
       "      <td>cellular</td>\n",
       "      <td>17</td>\n",
       "      <td>nov</td>\n",
       "      <td>1127</td>\n",
       "      <td>5</td>\n",
       "      <td>184</td>\n",
       "      <td>3</td>\n",
       "      <td>success</td>\n",
       "      <td>yes</td>\n",
       "    </tr>\n",
       "    <tr>\n",
       "      <th>45209</th>\n",
       "      <td>57</td>\n",
       "      <td>blue-collar</td>\n",
       "      <td>married</td>\n",
       "      <td>secondary</td>\n",
       "      <td>no</td>\n",
       "      <td>668</td>\n",
       "      <td>no</td>\n",
       "      <td>no</td>\n",
       "      <td>telephone</td>\n",
       "      <td>17</td>\n",
       "      <td>nov</td>\n",
       "      <td>508</td>\n",
       "      <td>4</td>\n",
       "      <td>-1</td>\n",
       "      <td>0</td>\n",
       "      <td>unknown</td>\n",
       "      <td>no</td>\n",
       "    </tr>\n",
       "    <tr>\n",
       "      <th>45210</th>\n",
       "      <td>37</td>\n",
       "      <td>entrepreneur</td>\n",
       "      <td>married</td>\n",
       "      <td>secondary</td>\n",
       "      <td>no</td>\n",
       "      <td>2971</td>\n",
       "      <td>no</td>\n",
       "      <td>no</td>\n",
       "      <td>cellular</td>\n",
       "      <td>17</td>\n",
       "      <td>nov</td>\n",
       "      <td>361</td>\n",
       "      <td>2</td>\n",
       "      <td>188</td>\n",
       "      <td>11</td>\n",
       "      <td>other</td>\n",
       "      <td>no</td>\n",
       "    </tr>\n",
       "  </tbody>\n",
       "</table>\n",
       "<p>45211 rows × 17 columns</p>\n",
       "</div>"
      ],
      "text/plain": [
       "      age           job   marital  education default balance housing loan  \\\n",
       "0      58    management   married   tertiary      no    2143     yes   no   \n",
       "1      44    technician    single  secondary      no      29     yes   no   \n",
       "2      33  entrepreneur   married  secondary      no       2     yes  yes   \n",
       "3      47   blue-collar   married    unknown      no    1506     yes   no   \n",
       "4      33       unknown    single    unknown      no       1      no   no   \n",
       "...    ..           ...       ...        ...     ...     ...     ...  ...   \n",
       "45206  51    technician   married   tertiary      no     825      no   no   \n",
       "45207  71       retired  divorced    primary      no    1729      no   no   \n",
       "45208  72       retired   married  secondary      no    5715      no   no   \n",
       "45209  57   blue-collar   married  secondary      no     668      no   no   \n",
       "45210  37  entrepreneur   married  secondary      no    2971      no   no   \n",
       "\n",
       "         contact day month duration campaign pdays previous poutcome    y  \n",
       "0        unknown   5   may      261        1    -1        0  unknown   no  \n",
       "1        unknown   5   may      151        1    -1        0  unknown   no  \n",
       "2        unknown   5   may       76        1    -1        0  unknown   no  \n",
       "3        unknown   5   may       92        1    -1        0  unknown   no  \n",
       "4        unknown   5   may      198        1    -1        0  unknown   no  \n",
       "...          ...  ..   ...      ...      ...   ...      ...      ...  ...  \n",
       "45206   cellular  17   nov      977        3    -1        0  unknown  yes  \n",
       "45207   cellular  17   nov      456        2    -1        0  unknown  yes  \n",
       "45208   cellular  17   nov     1127        5   184        3  success  yes  \n",
       "45209  telephone  17   nov      508        4    -1        0  unknown   no  \n",
       "45210   cellular  17   nov      361        2   188       11    other   no  \n",
       "\n",
       "[45211 rows x 17 columns]"
      ]
     },
     "execution_count": 6,
     "metadata": {},
     "output_type": "execute_result"
    }
   ],
   "source": [
    "df = pd.DataFrame(cleaned_data, columns=new_cols)\n",
    "df "
   ]
  },
  {
   "cell_type": "code",
   "execution_count": 7,
   "metadata": {},
   "outputs": [
    {
     "name": "stdout",
     "output_type": "stream",
     "text": [
      "<class 'pandas.core.frame.DataFrame'>\n",
      "RangeIndex: 45211 entries, 0 to 45210\n",
      "Data columns (total 17 columns):\n",
      " #   Column     Non-Null Count  Dtype \n",
      "---  ------     --------------  ----- \n",
      " 0   age        45211 non-null  object\n",
      " 1   job        45211 non-null  object\n",
      " 2   marital    45211 non-null  object\n",
      " 3   education  45211 non-null  object\n",
      " 4   default    45211 non-null  object\n",
      " 5   balance    45211 non-null  object\n",
      " 6   housing    45211 non-null  object\n",
      " 7   loan       45211 non-null  object\n",
      " 8   contact    45211 non-null  object\n",
      " 9   day        45211 non-null  object\n",
      " 10  month      45211 non-null  object\n",
      " 11  duration   45211 non-null  object\n",
      " 12  campaign   45211 non-null  object\n",
      " 13  pdays      45211 non-null  object\n",
      " 14  previous   45211 non-null  object\n",
      " 15  poutcome   45211 non-null  object\n",
      " 16  y          45211 non-null  object\n",
      "dtypes: object(17)\n",
      "memory usage: 5.9+ MB\n"
     ]
    }
   ],
   "source": [
    "df.info()"
   ]
  },
  {
   "cell_type": "code",
   "execution_count": 8,
   "metadata": {},
   "outputs": [
    {
     "data": {
      "text/plain": [
       "(45211, 17)"
      ]
     },
     "execution_count": 8,
     "metadata": {},
     "output_type": "execute_result"
    }
   ],
   "source": [
    "df.shape"
   ]
  },
  {
   "cell_type": "code",
   "execution_count": 9,
   "metadata": {},
   "outputs": [
    {
     "data": {
      "text/plain": [
       "age          0\n",
       "job          0\n",
       "marital      0\n",
       "education    0\n",
       "default      0\n",
       "balance      0\n",
       "housing      0\n",
       "loan         0\n",
       "contact      0\n",
       "day          0\n",
       "month        0\n",
       "duration     0\n",
       "campaign     0\n",
       "pdays        0\n",
       "previous     0\n",
       "poutcome     0\n",
       "y            0\n",
       "dtype: int64"
      ]
     },
     "execution_count": 9,
     "metadata": {},
     "output_type": "execute_result"
    }
   ],
   "source": [
    "df.isnull().sum()"
   ]
  },
  {
   "cell_type": "code",
   "execution_count": 10,
   "metadata": {},
   "outputs": [
    {
     "data": {
      "text/plain": [
       "array(['58', '44', '33', '47', '35', '28', '42', '43', '41', '29', '53',\n",
       "       '57', '51', '45', '60', '56', '32', '25', '40', '39', '52', '46',\n",
       "       '36', '49', '59', '37', '50', '54', '55', '48', '24', '38', '31',\n",
       "       '30', '27', '34', '23', '26', '61', '22', '21', '20', '66', '62',\n",
       "       '83', '75', '67', '70', '65', '68', '64', '69', '72', '71', '19',\n",
       "       '76', '85', '63', '90', '82', '73', '74', '78', '80', '94', '79',\n",
       "       '77', '86', '95', '81', '18', '89', '84', '87', '92', '93', '88'],\n",
       "      dtype=object)"
      ]
     },
     "execution_count": 10,
     "metadata": {},
     "output_type": "execute_result"
    }
   ],
   "source": [
    "df.age.unique()"
   ]
  },
  {
   "cell_type": "code",
   "execution_count": 11,
   "metadata": {},
   "outputs": [],
   "source": [
    "df['age'] = df['age'].astype(int)"
   ]
  },
  {
   "cell_type": "code",
   "execution_count": 12,
   "metadata": {},
   "outputs": [
    {
     "data": {
      "text/plain": [
       "array(['management', 'technician', 'entrepreneur', 'blue-collar',\n",
       "       'unknown', 'retired', 'admin.', 'services', 'self-employed',\n",
       "       'unemployed', 'housemaid', 'student'], dtype=object)"
      ]
     },
     "execution_count": 12,
     "metadata": {},
     "output_type": "execute_result"
    }
   ],
   "source": [
    "df['job'].unique()"
   ]
  },
  {
   "cell_type": "code",
   "execution_count": 13,
   "metadata": {},
   "outputs": [
    {
     "data": {
      "text/plain": [
       "array(['married', 'single', 'divorced'], dtype=object)"
      ]
     },
     "execution_count": 13,
     "metadata": {},
     "output_type": "execute_result"
    }
   ],
   "source": [
    "df['marital'].unique()"
   ]
  },
  {
   "cell_type": "code",
   "execution_count": 14,
   "metadata": {},
   "outputs": [
    {
     "data": {
      "text/plain": [
       "array(['tertiary', 'secondary', 'unknown', 'primary'], dtype=object)"
      ]
     },
     "execution_count": 14,
     "metadata": {},
     "output_type": "execute_result"
    }
   ],
   "source": [
    "df['education'].unique()"
   ]
  },
  {
   "cell_type": "code",
   "execution_count": 15,
   "metadata": {},
   "outputs": [
    {
     "data": {
      "text/plain": [
       "array(['no', 'yes'], dtype=object)"
      ]
     },
     "execution_count": 15,
     "metadata": {},
     "output_type": "execute_result"
    }
   ],
   "source": [
    "df['default'].unique()"
   ]
  },
  {
   "cell_type": "code",
   "execution_count": 16,
   "metadata": {},
   "outputs": [
    {
     "data": {
      "text/plain": [
       "array(['2143', '29', '2', ..., '8205', '14204', '16353'], dtype=object)"
      ]
     },
     "execution_count": 16,
     "metadata": {},
     "output_type": "execute_result"
    }
   ],
   "source": [
    "df['balance'].unique()"
   ]
  },
  {
   "cell_type": "code",
   "execution_count": 17,
   "metadata": {},
   "outputs": [],
   "source": [
    "df['balance'] = df['balance'].astype(int)"
   ]
  },
  {
   "cell_type": "code",
   "execution_count": 18,
   "metadata": {},
   "outputs": [
    {
     "data": {
      "text/plain": [
       "39989    102127\n",
       "26227     98417\n",
       "43393     81204\n",
       "42558     81204\n",
       "41693     71188\n",
       "          ...  \n",
       "1896      -3313\n",
       "7413      -3372\n",
       "38736     -4057\n",
       "15682     -6847\n",
       "12909     -8019\n",
       "Name: balance, Length: 45211, dtype: int32"
      ]
     },
     "execution_count": 18,
     "metadata": {},
     "output_type": "execute_result"
    }
   ],
   "source": [
    "df['balance'].sort_values(ascending=False)"
   ]
  },
  {
   "cell_type": "code",
   "execution_count": 19,
   "metadata": {},
   "outputs": [
    {
     "data": {
      "text/html": [
       "<div>\n",
       "<style scoped>\n",
       "    .dataframe tbody tr th:only-of-type {\n",
       "        vertical-align: middle;\n",
       "    }\n",
       "\n",
       "    .dataframe tbody tr th {\n",
       "        vertical-align: top;\n",
       "    }\n",
       "\n",
       "    .dataframe thead th {\n",
       "        text-align: right;\n",
       "    }\n",
       "</style>\n",
       "<table border=\"1\" class=\"dataframe\">\n",
       "  <thead>\n",
       "    <tr style=\"text-align: right;\">\n",
       "      <th></th>\n",
       "      <th></th>\n",
       "      <th>count</th>\n",
       "    </tr>\n",
       "    <tr>\n",
       "      <th>default</th>\n",
       "      <th>balance</th>\n",
       "      <th></th>\n",
       "    </tr>\n",
       "  </thead>\n",
       "  <tbody>\n",
       "    <tr>\n",
       "      <th rowspan=\"5\" valign=\"top\">no</th>\n",
       "      <th>0</th>\n",
       "      <td>3398</td>\n",
       "    </tr>\n",
       "    <tr>\n",
       "      <th>1</th>\n",
       "      <td>186</td>\n",
       "    </tr>\n",
       "    <tr>\n",
       "      <th>2</th>\n",
       "      <td>145</td>\n",
       "    </tr>\n",
       "    <tr>\n",
       "      <th>3</th>\n",
       "      <td>133</td>\n",
       "    </tr>\n",
       "    <tr>\n",
       "      <th>4</th>\n",
       "      <td>131</td>\n",
       "    </tr>\n",
       "    <tr>\n",
       "      <th>...</th>\n",
       "      <th>...</th>\n",
       "      <td>...</td>\n",
       "    </tr>\n",
       "    <tr>\n",
       "      <th rowspan=\"5\" valign=\"top\">yes</th>\n",
       "      <th>1709</th>\n",
       "      <td>1</td>\n",
       "    </tr>\n",
       "    <tr>\n",
       "      <th>2262</th>\n",
       "      <td>1</td>\n",
       "    </tr>\n",
       "    <tr>\n",
       "      <th>5249</th>\n",
       "      <td>1</td>\n",
       "    </tr>\n",
       "    <tr>\n",
       "      <th>6162</th>\n",
       "      <td>1</td>\n",
       "    </tr>\n",
       "    <tr>\n",
       "      <th>16486</th>\n",
       "      <td>1</td>\n",
       "    </tr>\n",
       "  </tbody>\n",
       "</table>\n",
       "<p>7572 rows × 1 columns</p>\n",
       "</div>"
      ],
      "text/plain": [
       "                 count\n",
       "default balance       \n",
       "no      0         3398\n",
       "        1          186\n",
       "        2          145\n",
       "        3          133\n",
       "        4          131\n",
       "...                ...\n",
       "yes     1709         1\n",
       "        2262         1\n",
       "        5249         1\n",
       "        6162         1\n",
       "        16486        1\n",
       "\n",
       "[7572 rows x 1 columns]"
      ]
     },
     "execution_count": 19,
     "metadata": {},
     "output_type": "execute_result"
    }
   ],
   "source": [
    "df.groupby(['default'])['balance'].value_counts().to_frame()"
   ]
  },
  {
   "cell_type": "code",
   "execution_count": 20,
   "metadata": {},
   "outputs": [
    {
     "data": {
      "text/html": [
       "<div>\n",
       "<style scoped>\n",
       "    .dataframe tbody tr th:only-of-type {\n",
       "        vertical-align: middle;\n",
       "    }\n",
       "\n",
       "    .dataframe tbody tr th {\n",
       "        vertical-align: top;\n",
       "    }\n",
       "\n",
       "    .dataframe thead th {\n",
       "        text-align: right;\n",
       "    }\n",
       "</style>\n",
       "<table border=\"1\" class=\"dataframe\">\n",
       "  <thead>\n",
       "    <tr style=\"text-align: right;\">\n",
       "      <th></th>\n",
       "      <th>balance</th>\n",
       "    </tr>\n",
       "  </thead>\n",
       "  <tbody>\n",
       "    <tr>\n",
       "      <th>min</th>\n",
       "      <td>-8019</td>\n",
       "    </tr>\n",
       "    <tr>\n",
       "      <th>max</th>\n",
       "      <td>102127</td>\n",
       "    </tr>\n",
       "    <tr>\n",
       "      <th>count</th>\n",
       "      <td>45211</td>\n",
       "    </tr>\n",
       "  </tbody>\n",
       "</table>\n",
       "</div>"
      ],
      "text/plain": [
       "       balance\n",
       "min      -8019\n",
       "max     102127\n",
       "count    45211"
      ]
     },
     "execution_count": 20,
     "metadata": {},
     "output_type": "execute_result"
    }
   ],
   "source": [
    "df['balance'].agg(['min', 'max', 'count']).to_frame()"
   ]
  },
  {
   "cell_type": "code",
   "execution_count": 21,
   "metadata": {},
   "outputs": [
    {
     "data": {
      "text/html": [
       "<div>\n",
       "<style scoped>\n",
       "    .dataframe tbody tr th:only-of-type {\n",
       "        vertical-align: middle;\n",
       "    }\n",
       "\n",
       "    .dataframe tbody tr th {\n",
       "        vertical-align: top;\n",
       "    }\n",
       "\n",
       "    .dataframe thead th {\n",
       "        text-align: right;\n",
       "    }\n",
       "</style>\n",
       "<table border=\"1\" class=\"dataframe\">\n",
       "  <thead>\n",
       "    <tr style=\"text-align: right;\">\n",
       "      <th></th>\n",
       "      <th>Positive Numbers</th>\n",
       "      <th>Negative Numbers</th>\n",
       "    </tr>\n",
       "  </thead>\n",
       "  <tbody>\n",
       "    <tr>\n",
       "      <th>0</th>\n",
       "      <td>37931</td>\n",
       "      <td>3766</td>\n",
       "    </tr>\n",
       "  </tbody>\n",
       "</table>\n",
       "</div>"
      ],
      "text/plain": [
       "   Positive Numbers  Negative Numbers\n",
       "0             37931              3766"
      ]
     },
     "execution_count": 21,
     "metadata": {},
     "output_type": "execute_result"
    }
   ],
   "source": [
    "calculate_neg_nums = len(df[df['balance'] < 0])\n",
    "calculate_pos_nums = len(df[df['balance'] > 0])\n",
    "nums_df = pd.DataFrame({'Positive Numbers': [calculate_pos_nums], 'Negative Numbers': [calculate_neg_nums]})\n",
    "nums_df"
   ]
  },
  {
   "cell_type": "code",
   "execution_count": 22,
   "metadata": {},
   "outputs": [
    {
     "data": {
      "text/plain": [
       "array(['yes', 'no'], dtype=object)"
      ]
     },
     "execution_count": 22,
     "metadata": {},
     "output_type": "execute_result"
    }
   ],
   "source": [
    "df['housing'].unique()"
   ]
  },
  {
   "cell_type": "code",
   "execution_count": 23,
   "metadata": {},
   "outputs": [
    {
     "data": {
      "text/plain": [
       "array(['no', 'yes'], dtype=object)"
      ]
     },
     "execution_count": 23,
     "metadata": {},
     "output_type": "execute_result"
    }
   ],
   "source": [
    "df['loan'].unique()"
   ]
  },
  {
   "cell_type": "code",
   "execution_count": 24,
   "metadata": {},
   "outputs": [
    {
     "data": {
      "text/plain": [
       "array(['unknown', 'cellular', 'telephone'], dtype=object)"
      ]
     },
     "execution_count": 24,
     "metadata": {},
     "output_type": "execute_result"
    }
   ],
   "source": [
    "df['contact'].unique()"
   ]
  },
  {
   "cell_type": "code",
   "execution_count": 25,
   "metadata": {},
   "outputs": [
    {
     "data": {
      "text/plain": [
       "array(['5', '6', '7', '8', '9', '12', '13', '14', '15', '16', '19', '20',\n",
       "       '21', '23', '26', '27', '28', '29', '30', '2', '3', '4', '11',\n",
       "       '17', '18', '24', '25', '1', '10', '22', '31'], dtype=object)"
      ]
     },
     "execution_count": 25,
     "metadata": {},
     "output_type": "execute_result"
    }
   ],
   "source": [
    "df['day'].unique()"
   ]
  },
  {
   "cell_type": "code",
   "execution_count": 26,
   "metadata": {},
   "outputs": [],
   "source": [
    "df['day'] = df['day'].astype(int)"
   ]
  },
  {
   "cell_type": "code",
   "execution_count": 27,
   "metadata": {},
   "outputs": [
    {
     "data": {
      "text/plain": [
       "array(['may', 'jun', 'jul', 'aug', 'oct', 'nov', 'dec', 'jan', 'feb',\n",
       "       'mar', 'apr', 'sep'], dtype=object)"
      ]
     },
     "execution_count": 27,
     "metadata": {},
     "output_type": "execute_result"
    }
   ],
   "source": [
    "df['month'].unique()"
   ]
  },
  {
   "cell_type": "code",
   "execution_count": 28,
   "metadata": {},
   "outputs": [
    {
     "data": {
      "text/plain": [
       "array(['261', '151', '76', ..., '1298', '1246', '1556'], dtype=object)"
      ]
     },
     "execution_count": 28,
     "metadata": {},
     "output_type": "execute_result"
    }
   ],
   "source": [
    "df['duration'].unique()"
   ]
  },
  {
   "cell_type": "code",
   "execution_count": 29,
   "metadata": {},
   "outputs": [],
   "source": [
    "df['duration'] = df['duration'].astype(int)"
   ]
  },
  {
   "cell_type": "code",
   "execution_count": 30,
   "metadata": {},
   "outputs": [
    {
     "data": {
      "text/plain": [
       "array(['1', '2', '3', '5', '4', '6', '7', '8', '9', '10', '11', '12',\n",
       "       '13', '19', '14', '24', '16', '32', '18', '22', '15', '17', '25',\n",
       "       '21', '43', '51', '63', '41', '26', '28', '55', '50', '38', '23',\n",
       "       '20', '29', '31', '37', '30', '46', '27', '58', '33', '35', '34',\n",
       "       '36', '39', '44'], dtype=object)"
      ]
     },
     "execution_count": 30,
     "metadata": {},
     "output_type": "execute_result"
    }
   ],
   "source": [
    "df['campaign'].unique()"
   ]
  },
  {
   "cell_type": "code",
   "execution_count": 31,
   "metadata": {},
   "outputs": [],
   "source": [
    "df['campaign'] = df['campaign'].astype(int)"
   ]
  },
  {
   "cell_type": "code",
   "execution_count": 32,
   "metadata": {},
   "outputs": [
    {
     "data": {
      "text/plain": [
       "array(['-1', '151', '166', '91', '86', '143', '147', '89', '140', '176',\n",
       "       '101', '174', '170', '167', '195', '165', '129', '188', '196',\n",
       "       '172', '118', '119', '104', '171', '117', '164', '132', '131',\n",
       "       '123', '159', '186', '111', '115', '116', '173', '178', '110',\n",
       "       '152', '96', '103', '150', '175', '193', '181', '185', '154',\n",
       "       '145', '138', '126', '180', '109', '158', '168', '97', '182',\n",
       "       '127', '130', '194', '125', '105', '102', '26', '179', '28', '183',\n",
       "       '155', '112', '120', '137', '124', '187', '190', '113', '162',\n",
       "       '134', '169', '189', '8', '144', '191', '184', '177', '5', '99',\n",
       "       '133', '93', '92', '10', '100', '156', '198', '106', '153', '146',\n",
       "       '128', '7', '121', '160', '107', '90', '27', '197', '136', '139',\n",
       "       '122', '157', '149', '135', '30', '114', '98', '192', '163', '34',\n",
       "       '95', '141', '31', '199', '94', '108', '29', '268', '247', '253',\n",
       "       '226', '244', '239', '245', '204', '231', '238', '258', '230',\n",
       "       '254', '265', '71', '223', '246', '250', '266', '240', '205',\n",
       "       '261', '259', '241', '260', '234', '251', '225', '161', '237',\n",
       "       '262', '248', '255', '220', '227', '206', '224', '249', '235',\n",
       "       '228', '263', '2', '270', '232', '252', '207', '200', '269', '233',\n",
       "       '256', '273', '272', '242', '264', '208', '214', '222', '271',\n",
       "       '203', '221', '202', '216', '201', '257', '229', '210', '217',\n",
       "       '75', '213', '73', '76', '267', '211', '215', '77', '236', '82',\n",
       "       '6', '209', '274', '1', '243', '212', '275', '80', '276', '9',\n",
       "       '279', '12', '280', '88', '277', '85', '84', '219', '24', '21',\n",
       "       '282', '41', '294', '49', '329', '307', '303', '331', '308', '300',\n",
       "       '64', '314', '287', '330', '332', '302', '323', '318', '333', '60',\n",
       "       '326', '335', '313', '312', '305', '325', '327', '336', '309',\n",
       "       '328', '322', '39', '316', '292', '295', '310', '306', '320',\n",
       "       '317', '289', '57', '321', '142', '339', '301', '315', '337',\n",
       "       '334', '340', '319', '17', '74', '148', '341', '299', '344', '342',\n",
       "       '324', '345', '346', '304', '281', '343', '338', '14', '347', '15',\n",
       "       '291', '348', '349', '285', '350', '284', '25', '283', '278', '81',\n",
       "       '4', '87', '83', '79', '70', '13', '293', '37', '78', '63', '22',\n",
       "       '296', '355', '66', '19', '35', '360', '357', '354', '351', '362',\n",
       "       '358', '365', '298', '286', '364', '363', '47', '361', '288',\n",
       "       '366', '356', '352', '359', '297', '367', '353', '368', '42',\n",
       "       '290', '67', '371', '370', '369', '50', '36', '373', '374', '372',\n",
       "       '311', '375', '378', '59', '379', '40', '18', '43', '20', '69',\n",
       "       '38', '385', '56', '55', '44', '391', '72', '390', '32', '62',\n",
       "       '399', '393', '65', '377', '395', '388', '389', '386', '61', '412',\n",
       "       '405', '434', '394', '382', '459', '440', '397', '383', '68',\n",
       "       '461', '462', '463', '422', '51', '457', '430', '442', '403',\n",
       "       '454', '428', '392', '410', '401', '474', '475', '477', '478',\n",
       "       '54', '476', '380', '479', '45', '46', '495', '58', '48', '518',\n",
       "       '52', '515', '520', '511', '536', '387', '218', '33', '544', '435',\n",
       "       '436', '555', '433', '446', '558', '469', '616', '561', '553',\n",
       "       '384', '592', '467', '585', '480', '421', '667', '626', '426',\n",
       "       '595', '381', '376', '648', '521', '452', '449', '633', '398',\n",
       "       '53', '460', '670', '551', '414', '557', '687', '404', '651',\n",
       "       '686', '425', '504', '578', '674', '416', '586', '411', '756',\n",
       "       '450', '745', '514', '417', '424', '776', '396', '683', '529',\n",
       "       '439', '415', '456', '407', '458', '532', '481', '791', '701',\n",
       "       '531', '792', '413', '445', '535', '784', '419', '455', '491',\n",
       "       '431', '542', '470', '472', '717', '437', '3', '782', '728', '828',\n",
       "       '524', '562', '761', '492', '775', '579', '493', '464', '760',\n",
       "       '466', '465', '656', '831', '490', '432', '655', '427', '749',\n",
       "       '838', '769', '587', '778', '854', '779', '850', '771', '594',\n",
       "       '842', '589', '603', '484', '489', '486', '409', '444', '680',\n",
       "       '808', '485', '503', '690', '772', '774', '526', '420', '528',\n",
       "       '500', '826', '804', '508', '547', '805', '541', '543', '871',\n",
       "       '550', '530'], dtype=object)"
      ]
     },
     "execution_count": 32,
     "metadata": {},
     "output_type": "execute_result"
    }
   ],
   "source": [
    "df['pdays'].unique()"
   ]
  },
  {
   "cell_type": "code",
   "execution_count": 33,
   "metadata": {},
   "outputs": [],
   "source": [
    "df['pdays'] = df['pdays'].astype(int)"
   ]
  },
  {
   "cell_type": "code",
   "execution_count": 34,
   "metadata": {},
   "outputs": [
    {
     "data": {
      "text/plain": [
       "array(['0', '3', '1', '4', '2', '11', '16', '6', '5', '10', '12', '7',\n",
       "       '18', '9', '21', '8', '14', '15', '26', '37', '13', '25', '20',\n",
       "       '27', '17', '23', '38', '29', '24', '51', '275', '22', '19', '30',\n",
       "       '58', '28', '32', '40', '55', '35', '41'], dtype=object)"
      ]
     },
     "execution_count": 34,
     "metadata": {},
     "output_type": "execute_result"
    }
   ],
   "source": [
    "df['previous'].unique()"
   ]
  },
  {
   "cell_type": "code",
   "execution_count": 35,
   "metadata": {},
   "outputs": [],
   "source": [
    "df['previous'] = df['previous'].astype(int)"
   ]
  },
  {
   "cell_type": "code",
   "execution_count": 36,
   "metadata": {},
   "outputs": [
    {
     "data": {
      "text/plain": [
       "array(['unknown', 'failure', 'other', 'success'], dtype=object)"
      ]
     },
     "execution_count": 36,
     "metadata": {},
     "output_type": "execute_result"
    }
   ],
   "source": [
    "df['poutcome'].unique()"
   ]
  },
  {
   "cell_type": "code",
   "execution_count": 37,
   "metadata": {},
   "outputs": [
    {
     "data": {
      "text/plain": [
       "array(['no', 'yes'], dtype=object)"
      ]
     },
     "execution_count": 37,
     "metadata": {},
     "output_type": "execute_result"
    }
   ],
   "source": [
    "df['y'].unique()"
   ]
  },
  {
   "cell_type": "code",
   "execution_count": 38,
   "metadata": {},
   "outputs": [],
   "source": [
    "drop_cols = ['contact', 'previous', 'poutcome', 'pdays', 'campaign']\n",
    "df.drop(drop_cols, inplace=True, axis=1)"
   ]
  },
  {
   "cell_type": "code",
   "execution_count": 39,
   "metadata": {},
   "outputs": [],
   "source": [
    "df = df.replace('unknown', np.nan)"
   ]
  },
  {
   "cell_type": "code",
   "execution_count": 40,
   "metadata": {},
   "outputs": [],
   "source": [
    "cleaned_df = df.fillna(df['job'].mode().values[0], axis=1)"
   ]
  },
  {
   "cell_type": "code",
   "execution_count": 41,
   "metadata": {},
   "outputs": [
    {
     "data": {
      "text/html": [
       "<div>\n",
       "<style scoped>\n",
       "    .dataframe tbody tr th:only-of-type {\n",
       "        vertical-align: middle;\n",
       "    }\n",
       "\n",
       "    .dataframe tbody tr th {\n",
       "        vertical-align: top;\n",
       "    }\n",
       "\n",
       "    .dataframe thead th {\n",
       "        text-align: right;\n",
       "    }\n",
       "</style>\n",
       "<table border=\"1\" class=\"dataframe\">\n",
       "  <thead>\n",
       "    <tr style=\"text-align: right;\">\n",
       "      <th></th>\n",
       "      <th>age</th>\n",
       "      <th>job</th>\n",
       "      <th>marital</th>\n",
       "      <th>education</th>\n",
       "      <th>default</th>\n",
       "      <th>balance</th>\n",
       "      <th>housing</th>\n",
       "      <th>loan</th>\n",
       "      <th>day</th>\n",
       "      <th>month</th>\n",
       "      <th>duration</th>\n",
       "      <th>y</th>\n",
       "    </tr>\n",
       "  </thead>\n",
       "  <tbody>\n",
       "    <tr>\n",
       "      <th>0</th>\n",
       "      <td>58</td>\n",
       "      <td>management</td>\n",
       "      <td>married</td>\n",
       "      <td>tertiary</td>\n",
       "      <td>no</td>\n",
       "      <td>2143</td>\n",
       "      <td>yes</td>\n",
       "      <td>no</td>\n",
       "      <td>5</td>\n",
       "      <td>may</td>\n",
       "      <td>261</td>\n",
       "      <td>no</td>\n",
       "    </tr>\n",
       "    <tr>\n",
       "      <th>1</th>\n",
       "      <td>44</td>\n",
       "      <td>technician</td>\n",
       "      <td>single</td>\n",
       "      <td>secondary</td>\n",
       "      <td>no</td>\n",
       "      <td>29</td>\n",
       "      <td>yes</td>\n",
       "      <td>no</td>\n",
       "      <td>5</td>\n",
       "      <td>may</td>\n",
       "      <td>151</td>\n",
       "      <td>no</td>\n",
       "    </tr>\n",
       "    <tr>\n",
       "      <th>2</th>\n",
       "      <td>33</td>\n",
       "      <td>entrepreneur</td>\n",
       "      <td>married</td>\n",
       "      <td>secondary</td>\n",
       "      <td>no</td>\n",
       "      <td>2</td>\n",
       "      <td>yes</td>\n",
       "      <td>yes</td>\n",
       "      <td>5</td>\n",
       "      <td>may</td>\n",
       "      <td>76</td>\n",
       "      <td>no</td>\n",
       "    </tr>\n",
       "    <tr>\n",
       "      <th>3</th>\n",
       "      <td>47</td>\n",
       "      <td>blue-collar</td>\n",
       "      <td>married</td>\n",
       "      <td>blue-collar</td>\n",
       "      <td>no</td>\n",
       "      <td>1506</td>\n",
       "      <td>yes</td>\n",
       "      <td>no</td>\n",
       "      <td>5</td>\n",
       "      <td>may</td>\n",
       "      <td>92</td>\n",
       "      <td>no</td>\n",
       "    </tr>\n",
       "    <tr>\n",
       "      <th>4</th>\n",
       "      <td>33</td>\n",
       "      <td>blue-collar</td>\n",
       "      <td>single</td>\n",
       "      <td>blue-collar</td>\n",
       "      <td>no</td>\n",
       "      <td>1</td>\n",
       "      <td>no</td>\n",
       "      <td>no</td>\n",
       "      <td>5</td>\n",
       "      <td>may</td>\n",
       "      <td>198</td>\n",
       "      <td>no</td>\n",
       "    </tr>\n",
       "    <tr>\n",
       "      <th>...</th>\n",
       "      <td>...</td>\n",
       "      <td>...</td>\n",
       "      <td>...</td>\n",
       "      <td>...</td>\n",
       "      <td>...</td>\n",
       "      <td>...</td>\n",
       "      <td>...</td>\n",
       "      <td>...</td>\n",
       "      <td>...</td>\n",
       "      <td>...</td>\n",
       "      <td>...</td>\n",
       "      <td>...</td>\n",
       "    </tr>\n",
       "    <tr>\n",
       "      <th>45206</th>\n",
       "      <td>51</td>\n",
       "      <td>technician</td>\n",
       "      <td>married</td>\n",
       "      <td>tertiary</td>\n",
       "      <td>no</td>\n",
       "      <td>825</td>\n",
       "      <td>no</td>\n",
       "      <td>no</td>\n",
       "      <td>17</td>\n",
       "      <td>nov</td>\n",
       "      <td>977</td>\n",
       "      <td>yes</td>\n",
       "    </tr>\n",
       "    <tr>\n",
       "      <th>45207</th>\n",
       "      <td>71</td>\n",
       "      <td>retired</td>\n",
       "      <td>divorced</td>\n",
       "      <td>primary</td>\n",
       "      <td>no</td>\n",
       "      <td>1729</td>\n",
       "      <td>no</td>\n",
       "      <td>no</td>\n",
       "      <td>17</td>\n",
       "      <td>nov</td>\n",
       "      <td>456</td>\n",
       "      <td>yes</td>\n",
       "    </tr>\n",
       "    <tr>\n",
       "      <th>45208</th>\n",
       "      <td>72</td>\n",
       "      <td>retired</td>\n",
       "      <td>married</td>\n",
       "      <td>secondary</td>\n",
       "      <td>no</td>\n",
       "      <td>5715</td>\n",
       "      <td>no</td>\n",
       "      <td>no</td>\n",
       "      <td>17</td>\n",
       "      <td>nov</td>\n",
       "      <td>1127</td>\n",
       "      <td>yes</td>\n",
       "    </tr>\n",
       "    <tr>\n",
       "      <th>45209</th>\n",
       "      <td>57</td>\n",
       "      <td>blue-collar</td>\n",
       "      <td>married</td>\n",
       "      <td>secondary</td>\n",
       "      <td>no</td>\n",
       "      <td>668</td>\n",
       "      <td>no</td>\n",
       "      <td>no</td>\n",
       "      <td>17</td>\n",
       "      <td>nov</td>\n",
       "      <td>508</td>\n",
       "      <td>no</td>\n",
       "    </tr>\n",
       "    <tr>\n",
       "      <th>45210</th>\n",
       "      <td>37</td>\n",
       "      <td>entrepreneur</td>\n",
       "      <td>married</td>\n",
       "      <td>secondary</td>\n",
       "      <td>no</td>\n",
       "      <td>2971</td>\n",
       "      <td>no</td>\n",
       "      <td>no</td>\n",
       "      <td>17</td>\n",
       "      <td>nov</td>\n",
       "      <td>361</td>\n",
       "      <td>no</td>\n",
       "    </tr>\n",
       "  </tbody>\n",
       "</table>\n",
       "<p>45211 rows × 12 columns</p>\n",
       "</div>"
      ],
      "text/plain": [
       "      age           job   marital    education default balance housing loan  \\\n",
       "0      58    management   married     tertiary      no    2143     yes   no   \n",
       "1      44    technician    single    secondary      no      29     yes   no   \n",
       "2      33  entrepreneur   married    secondary      no       2     yes  yes   \n",
       "3      47   blue-collar   married  blue-collar      no    1506     yes   no   \n",
       "4      33   blue-collar    single  blue-collar      no       1      no   no   \n",
       "...    ..           ...       ...          ...     ...     ...     ...  ...   \n",
       "45206  51    technician   married     tertiary      no     825      no   no   \n",
       "45207  71       retired  divorced      primary      no    1729      no   no   \n",
       "45208  72       retired   married    secondary      no    5715      no   no   \n",
       "45209  57   blue-collar   married    secondary      no     668      no   no   \n",
       "45210  37  entrepreneur   married    secondary      no    2971      no   no   \n",
       "\n",
       "      day month duration    y  \n",
       "0       5   may      261   no  \n",
       "1       5   may      151   no  \n",
       "2       5   may       76   no  \n",
       "3       5   may       92   no  \n",
       "4       5   may      198   no  \n",
       "...    ..   ...      ...  ...  \n",
       "45206  17   nov      977  yes  \n",
       "45207  17   nov      456  yes  \n",
       "45208  17   nov     1127  yes  \n",
       "45209  17   nov      508   no  \n",
       "45210  17   nov      361   no  \n",
       "\n",
       "[45211 rows x 12 columns]"
      ]
     },
     "execution_count": 41,
     "metadata": {},
     "output_type": "execute_result"
    }
   ],
   "source": [
    "cleaned_df"
   ]
  },
  {
   "cell_type": "code",
   "execution_count": 42,
   "metadata": {},
   "outputs": [
    {
     "data": {
      "text/plain": [
       "<Axes: ylabel='age'>"
      ]
     },
     "execution_count": 42,
     "metadata": {},
     "output_type": "execute_result"
    },
    {
     "data": {
      "image/png": "[encoded data removed]",
      "text/plain": [
       "<Figure size 640x480 with 1 Axes>"
      ]
     },
     "metadata": {},
     "output_type": "display_data"
    }
   ],
   "source": [
    "sns.boxplot(cleaned_df['age'])"
   ]
  },
  {
   "cell_type": "code",
   "execution_count": 43,
   "metadata": {},
   "outputs": [
    {
     "name": "stdout",
     "output_type": "stream",
     "text": [
      "Upper Limit: 70.5 Lower Limit: 10.5\n",
      "        age           job   marital    education default balance housing loan  \\\n",
      "0        58    management   married     tertiary      no    2143     yes   no   \n",
      "1        44    technician    single    secondary      no      29     yes   no   \n",
      "2        33  entrepreneur   married    secondary      no       2     yes  yes   \n",
      "3        47   blue-collar   married  blue-collar      no    1506     yes   no   \n",
      "4        33   blue-collar    single  blue-collar      no       1      no   no   \n",
      "...     ...           ...       ...          ...     ...     ...     ...  ...   \n",
      "45206    51    technician   married     tertiary      no     825      no   no   \n",
      "45207  70.5       retired  divorced      primary      no    1729      no   no   \n",
      "45208  70.5       retired   married    secondary      no    5715      no   no   \n",
      "45209    57   blue-collar   married    secondary      no     668      no   no   \n",
      "45210    37  entrepreneur   married    secondary      no    2971      no   no   \n",
      "\n",
      "      day month duration    y  \n",
      "0       5   may      261   no  \n",
      "1       5   may      151   no  \n",
      "2       5   may       76   no  \n",
      "3       5   may       92   no  \n",
      "4       5   may      198   no  \n",
      "...    ..   ...      ...  ...  \n",
      "45206  17   nov      977  yes  \n",
      "45207  17   nov      456  yes  \n",
      "45208  17   nov     1127  yes  \n",
      "45209  17   nov      508   no  \n",
      "45210  17   nov      361   no  \n",
      "\n",
      "[45211 rows x 12 columns]\n"
     ]
    }
   ],
   "source": [
    "Q1 = cleaned_df['age'].quantile(0.25)\n",
    "Q3 = cleaned_df['age'].quantile(0.75)\n",
    "\n",
    "IQR = Q3 - Q1\n",
    "\n",
    "lower_bound = Q1 - 1.5 * IQR \n",
    "upper_bound = Q3 + 1.5 * IQR\n",
    "\n",
    "print(f'Upper Limit: {upper_bound}', f'Lower Limit: {lower_bound}')\n",
    "\n",
    "new_df = cleaned_df.copy()\n",
    "\n",
    "new_df['age'] = np.where(new_df['age'] > upper_bound, upper_bound, np.where(new_df['age'] < lower_bound, lower_bound, new_df['age']))\n",
    "\n",
    "print(new_df)"
   ]
  },
  {
   "cell_type": "code",
   "execution_count": 44,
   "metadata": {},
   "outputs": [],
   "source": [
    "cleaned_df = new_df.copy()"
   ]
  },
  {
   "cell_type": "code",
   "execution_count": 45,
   "metadata": {},
   "outputs": [
    {
     "data": {
      "text/plain": [
       "<Axes: ylabel='age'>"
      ]
     },
     "execution_count": 45,
     "metadata": {},
     "output_type": "execute_result"
    },
    {
     "data": {
      "image/png": "[encoded data removed]",
      "text/plain": [
       "<Figure size 640x480 with 1 Axes>"
      ]
     },
     "metadata": {},
     "output_type": "display_data"
    }
   ],
   "source": [
    "sns.boxplot(cleaned_df['age'])"
   ]
  },
  {
   "cell_type": "code",
   "execution_count": 46,
   "metadata": {},
   "outputs": [
    {
     "data": {
      "text/plain": [
       "<Axes: ylabel='age'>"
      ]
     },
     "execution_count": 46,
     "metadata": {},
     "output_type": "execute_result"
    },
    {
     "data": {
      "image/png": "[encoded data removed]",
      "text/plain": [
       "<Figure size 640x480 with 1 Axes>"
      ]
     },
     "metadata": {},
     "output_type": "display_data"
    }
   ],
   "source": [
    "sns.scatterplot(cleaned_df['age'])"
   ]
  },
  {
   "cell_type": "code",
   "execution_count": 47,
   "metadata": {},
   "outputs": [
    {
     "data": {
      "text/plain": [
       "<Axes: ylabel='balance'>"
      ]
     },
     "execution_count": 47,
     "metadata": {},
     "output_type": "execute_result"
    },
    {
     "data": {
      "image/png": "[encoded data removed]",
      "text/plain": [
       "<Figure size 640x480 with 1 Axes>"
      ]
     },
     "metadata": {},
     "output_type": "display_data"
    }
   ],
   "source": [
    "sns.boxplot(cleaned_df['balance'])"
   ]
  },
  {
   "cell_type": "code",
   "execution_count": 48,
   "metadata": {},
   "outputs": [
    {
     "name": "stdout",
     "output_type": "stream",
     "text": [
      "Upper Limit: 3462.0 Lower Limit: -1962.0\n",
      "        age           job   marital    education default balance housing loan  \\\n",
      "0        58    management   married     tertiary      no    2143     yes   no   \n",
      "1        44    technician    single    secondary      no      29     yes   no   \n",
      "2        33  entrepreneur   married    secondary      no       2     yes  yes   \n",
      "3        47   blue-collar   married  blue-collar      no    1506     yes   no   \n",
      "4        33   blue-collar    single  blue-collar      no       1      no   no   \n",
      "...     ...           ...       ...          ...     ...     ...     ...  ...   \n",
      "45206    51    technician   married     tertiary      no     825      no   no   \n",
      "45207  70.5       retired  divorced      primary      no    1729      no   no   \n",
      "45208  70.5       retired   married    secondary      no  3462.0      no   no   \n",
      "45209    57   blue-collar   married    secondary      no     668      no   no   \n",
      "45210    37  entrepreneur   married    secondary      no    2971      no   no   \n",
      "\n",
      "      day month duration    y  \n",
      "0       5   may      261   no  \n",
      "1       5   may      151   no  \n",
      "2       5   may       76   no  \n",
      "3       5   may       92   no  \n",
      "4       5   may      198   no  \n",
      "...    ..   ...      ...  ...  \n",
      "45206  17   nov      977  yes  \n",
      "45207  17   nov      456  yes  \n",
      "45208  17   nov     1127  yes  \n",
      "45209  17   nov      508   no  \n",
      "45210  17   nov      361   no  \n",
      "\n",
      "[45211 rows x 12 columns]\n"
     ]
    }
   ],
   "source": [
    "Q1 = cleaned_df['balance'].quantile(0.25)\n",
    "Q3 = cleaned_df['balance'].quantile(0.75)\n",
    "\n",
    "IQR = Q3 - Q1\n",
    "\n",
    "lower_bound = Q1 - 1.5 * IQR\n",
    "upper_bound = Q3 + 1.5 * IQR\n",
    "\n",
    "print(f\"Upper Limit: {upper_bound}\", f\"Lower Limit: {lower_bound}\")\n",
    "\n",
    "new_df = cleaned_df.copy()\n",
    "\n",
    "new_df['balance'] = np.where(new_df['balance'] > upper_bound, upper_bound, np.where(new_df['balance'] < lower_bound, lower_bound, new_df['balance']))\n",
    "print(new_df)"
   ]
  },
  {
   "cell_type": "code",
   "execution_count": 49,
   "metadata": {},
   "outputs": [],
   "source": [
    "cleaned_df = new_df.copy()"
   ]
  },
  {
   "cell_type": "code",
   "execution_count": 50,
   "metadata": {},
   "outputs": [
    {
     "data": {
      "text/plain": [
       "<Axes: ylabel='balance'>"
      ]
     },
     "execution_count": 50,
     "metadata": {},
     "output_type": "execute_result"
    },
    {
     "data": {
      "image/png": "[encoded data removed]",
      "text/plain": [
       "<Figure size 640x480 with 1 Axes>"
      ]
     },
     "metadata": {},
     "output_type": "display_data"
    }
   ],
   "source": [
    "sns.boxplot(cleaned_df['balance'])"
   ]
  },
  {
   "cell_type": "code",
   "execution_count": 51,
   "metadata": {},
   "outputs": [
    {
     "data": {
      "text/plain": [
       "<Axes: ylabel='duration'>"
      ]
     },
     "execution_count": 51,
     "metadata": {},
     "output_type": "execute_result"
    },
    {
     "data": {
      "image/png": "[encoded data removed]",
      "text/plain": [
       "<Figure size 640x480 with 1 Axes>"
      ]
     },
     "metadata": {},
     "output_type": "display_data"
    }
   ],
   "source": [
    "sns.boxplot(cleaned_df['duration'])"
   ]
  },
  {
   "cell_type": "code",
   "execution_count": 52,
   "metadata": {},
   "outputs": [
    {
     "name": "stdout",
     "output_type": "stream",
     "text": [
      "Upper Limit: 643.0 Lower Limit: -221.0\n",
      "        age           job   marital    education default balance housing loan  \\\n",
      "0        58    management   married     tertiary      no    2143     yes   no   \n",
      "1        44    technician    single    secondary      no      29     yes   no   \n",
      "2        33  entrepreneur   married    secondary      no       2     yes  yes   \n",
      "3        47   blue-collar   married  blue-collar      no    1506     yes   no   \n",
      "4        33   blue-collar    single  blue-collar      no       1      no   no   \n",
      "...     ...           ...       ...          ...     ...     ...     ...  ...   \n",
      "45206    51    technician   married     tertiary      no     825      no   no   \n",
      "45207  70.5       retired  divorced      primary      no    1729      no   no   \n",
      "45208  70.5       retired   married    secondary      no  3462.0      no   no   \n",
      "45209    57   blue-collar   married    secondary      no     668      no   no   \n",
      "45210    37  entrepreneur   married    secondary      no    2971      no   no   \n",
      "\n",
      "      day month duration    y  \n",
      "0       5   may      261   no  \n",
      "1       5   may      151   no  \n",
      "2       5   may       76   no  \n",
      "3       5   may       92   no  \n",
      "4       5   may      198   no  \n",
      "...    ..   ...      ...  ...  \n",
      "45206  17   nov    643.0  yes  \n",
      "45207  17   nov      456  yes  \n",
      "45208  17   nov    643.0  yes  \n",
      "45209  17   nov      508   no  \n",
      "45210  17   nov      361   no  \n",
      "\n",
      "[45211 rows x 12 columns]\n"
     ]
    }
   ],
   "source": [
    "Q1 = cleaned_df['duration'].quantile(0.25)\n",
    "Q3 = cleaned_df['duration'].quantile(0.75)\n",
    "\n",
    "IQR = Q3 - Q1\n",
    "\n",
    "lower_bound = Q1 - 1.5 * IQR\n",
    "upper_bound = Q3 + 1.5 * IQR \n",
    "\n",
    "print(f'Upper Limit: {upper_bound}', f'Lower Limit: {lower_bound}')\n",
    "\n",
    "new_df = cleaned_df.copy()\n",
    "\n",
    "new_df['duration'] = np.where(new_df['duration'] > upper_bound, upper_bound, np.where(new_df['duration'] < lower_bound, lower_bound, new_df['duration']))\n",
    "print(new_df)"
   ]
  },
  {
   "cell_type": "code",
   "execution_count": 53,
   "metadata": {},
   "outputs": [],
   "source": [
    "cleaned_df = new_df.copy()"
   ]
  },
  {
   "cell_type": "code",
   "execution_count": 54,
   "metadata": {},
   "outputs": [
    {
     "data": {
      "text/plain": [
       "<Axes: ylabel='duration'>"
      ]
     },
     "execution_count": 54,
     "metadata": {},
     "output_type": "execute_result"
    },
    {
     "data": {
      "image/png": "[encoded data removed]",
      "text/plain": [
       "<Figure size 640x480 with 1 Axes>"
      ]
     },
     "metadata": {},
     "output_type": "display_data"
    }
   ],
   "source": [
    "sns.boxplot(cleaned_df['duration'])"
   ]
  },
  {
   "cell_type": "code",
   "execution_count": 55,
   "metadata": {},
   "outputs": [],
   "source": [
    "from sklearn.compose import ColumnTransformer\n",
    "from sklearn.model_selection import train_test_split\n",
    "from sklearn.preprocessing import OneHotEncoder\n",
    "from sklearn.pipeline import Pipeline\n",
    "from sklearn.metrics import accuracy_score, precision_score, recall_score, f1_score"
   ]
  },
  {
   "cell_type": "code",
   "execution_count": 62,
   "metadata": {},
   "outputs": [
    {
     "name": "stderr",
     "output_type": "stream",
     "text": [
      "C:\\Users\\davet\\AppData\\Local\\Temp\\ipykernel_8252\\2831700917.py:2: FutureWarning: \n",
      "\n",
      "Passing `palette` without assigning `hue` is deprecated and will be removed in v0.14.0. Assign the `x` variable to `hue` and set `legend=False` for the same effect.\n",
      "\n",
      "  sns.barplot(cleaned_df['job'].value_counts(), ax=axarr[0], palette='pastel').set_title('Job Distribution')\n",
      "C:\\Users\\davet\\AppData\\Local\\Temp\\ipykernel_8252\\2831700917.py:3: FutureWarning: \n",
      "\n",
      "Passing `palette` without assigning `hue` is deprecated and will be removed in v0.14.0. Assign the `x` variable to `hue` and set `legend=False` for the same effect.\n",
      "\n",
      "  sns.barplot(cleaned_df['education'].value_counts(), ax=axarr[1], palette='pastel').set_title('Education Distribution')\n",
      "C:\\Users\\davet\\AppData\\Local\\Temp\\ipykernel_8252\\2831700917.py:4: FutureWarning: \n",
      "\n",
      "Passing `palette` without assigning `hue` is deprecated and will be removed in v0.14.0. Assign the `x` variable to `hue` and set `legend=False` for the same effect.\n",
      "\n",
      "  sns.barplot(cleaned_df['month'].value_counts(), ax=axarr[2], palette='pastel').set_title('Month Distribution')\n"
     ]
    },
    {
     "data": {
      "text/plain": [
       "Text(0.5, 1.0, 'Month Distribution')"
      ]
     },
     "execution_count": 62,
     "metadata": {},
     "output_type": "execute_result"
    },
    {
     "data": {
      "image/png": "[encoded data removed]",
      "text/plain": [
       "<Figure size 2000x1200 with 3 Axes>"
      ]
     },
     "metadata": {},
     "output_type": "display_data"
    }
   ],
   "source": [
    "fig, axarr = plt.subplots(1, 3, figsize=(20, 12))\n",
    "sns.barplot(cleaned_df['job'].value_counts(), ax=axarr[0], palette='pastel').set_title('Job Distribution')\n",
    "sns.barplot(cleaned_df['education'].value_counts(), ax=axarr[1], palette='pastel').set_title('Education Distribution')\n",
    "sns.barplot(cleaned_df['month'].value_counts(), ax=axarr[2], palette='pastel').set_title('Month Distribution')"
   ]
  },
  {
   "cell_type": "code",
   "execution_count": 89,
   "metadata": {},
   "outputs": [],
   "source": [
    "cleaned_df['marital'] = (cleaned_df['marital'] == 'married').astype(int)\n",
    "cleaned_df['default'] = (cleaned_df['default'] == 'no').astype(int)\n",
    "cleaned_df['housing'] = (cleaned_df['housing'] == 'yes').astype(int)\n",
    "cleaned_df['loan'] = (cleaned_df['loan'] == 'no').astype(int)"
   ]
  },
  {
   "cell_type": "code",
   "execution_count": 90,
   "metadata": {},
   "outputs": [
    {
     "name": "stderr",
     "output_type": "stream",
     "text": [
      "c:\\Users\\davet\\anaconda3\\Lib\\site-packages\\sklearn\\linear_model\\_logistic.py:469: ConvergenceWarning: lbfgs failed to converge (status=1):\n",
      "STOP: TOTAL NO. of ITERATIONS REACHED LIMIT.\n",
      "\n",
      "Increase the number of iterations (max_iter) or scale the data as shown in:\n",
      "    https://scikit-learn.org/stable/modules/preprocessing.html\n",
      "Please also refer to the documentation for alternative solver options:\n",
      "    https://scikit-learn.org/stable/modules/linear_model.html#logistic-regression\n",
      "  n_iter_i = _check_optimize_result(\n"
     ]
    },
    {
     "name": "stdout",
     "output_type": "stream",
     "text": [
      "Accuracy: 0.8844410040915626\n",
      "Precision: 0.860370190360267\n",
      "Recall: 0.8844410040915626\n",
      "F1: 0.8640112464197827\n"
     ]
    }
   ],
   "source": [
    "from sklearn.linear_model import LogisticRegression\n",
    "\n",
    "x = cleaned_df.drop(['y'], axis=1)\n",
    "y = cleaned_df['y']\n",
    "\n",
    "train_x, test_x, train_y, test_y = train_test_split(x, y, test_size=0.2, random_state=42)\n",
    "\n",
    "categorical_features = ['job', 'education', 'month']\n",
    "\n",
    "step1 = ColumnTransformer(transformers=[('col_tnf', OneHotEncoder(sparse_output=False, drop='first'), categorical_features)], remainder='passthrough')\n",
    "step2 = LogisticRegression(max_iter=1000)\n",
    "\n",
    "pipe = Pipeline([('step1', step1), ('step2', step2)])\n",
    "\n",
    "pipe.fit(train_x, train_y)\n",
    "\n",
    "pred_y = pipe.predict(test_x)\n",
    "\n",
    "print(f\"Accuracy: {accuracy_score(test_y, pred_y)}\")\n",
    "print(f\"Precision: {precision_score(test_y, pred_y, average='weighted')}\")\n",
    "print(f\"Recall: {recall_score(test_y, pred_y, average='weighted')}\")\n",
    "print(f\"F1: {f1_score(test_y, pred_y, average='weighted')}\")"
   ]
  },
  {
   "cell_type": "code",
   "execution_count": 91,
   "metadata": {},
   "outputs": [],
   "source": [
    "from sklearn.preprocessing import StandardScaler\n",
    "from sklearn.svm import SVC"
   ]
  },
  {
   "cell_type": "code",
   "execution_count": 93,
   "metadata": {},
   "outputs": [
    {
     "name": "stdout",
     "output_type": "stream",
     "text": [
      "SVC Accuracy: 0.8793541966161672\n"
     ]
    }
   ],
   "source": [
    "x = cleaned_df.drop(['y'], axis=1)\n",
    "y = cleaned_df['y']\n",
    "\n",
    "train_x, test_x, train_y, test_y = train_test_split(x, y, test_size=0.2, random_state=42)\n",
    "\n",
    "categorical_features = ['job', 'education', 'month']\n",
    "\n",
    "step1 = ColumnTransformer(transformers=[('cat', OneHotEncoder(sparse_output=False, drop='first'), categorical_features), ('num', StandardScaler(), x.select_dtypes(include=['number']).columns.tolist())], remainder='passthrough')\n",
    "step2 = SVC()\n",
    "\n",
    "pipeline_svc = Pipeline([('step1', step1), ('step2', step2)])\n",
    "\n",
    "pipeline_svc.fit(train_x, train_y)\n",
    "\n",
    "pred_y_svc = pipeline_svc.predict(test_x)\n",
    "\n",
    "print(f'SVC Accuracy: {accuracy_score(test_y, pred_y_svc)}')"
   ]
  },
  {
   "cell_type": "code",
   "execution_count": 95,
   "metadata": {},
   "outputs": [
    {
     "name": "stdout",
     "output_type": "stream",
     "text": [
      "Decision Tree Accuracy: 0.8565741457480924\n"
     ]
    }
   ],
   "source": [
    "from sklearn.tree import DecisionTreeClassifier\n",
    "\n",
    "x = cleaned_df.drop(['y'], axis=1)\n",
    "y = cleaned_df['y']\n",
    "\n",
    "train_x, test_x, train_y, test_y = train_test_split(x, y, test_size=0.2, random_state=42)\n",
    "\n",
    "categorical_features = ['job', 'education', 'month']\n",
    "\n",
    "step1 = ColumnTransformer(transformers=[('col_tnf', OneHotEncoder(sparse_output=False, drop='first'), categorical_features)], remainder='passthrough')\n",
    "step2 = DecisionTreeClassifier(random_state=42)\n",
    "\n",
    "pipeline_dt = Pipeline([('step1', step1), ('step2', step2)])\n",
    "\n",
    "pipeline_dt.fit(train_x, train_y)\n",
    "\n",
    "pred_y_dt = pipeline_dt.predict(test_x)\n",
    "\n",
    "print(f\"Decision Tree Accuracy: {accuracy_score(test_y, pred_y_dt)}\")"
   ]
  },
  {
   "cell_type": "code",
   "execution_count": 96,
   "metadata": {},
   "outputs": [
    {
     "name": "stdout",
     "output_type": "stream",
     "text": [
      "Random Forest Accuracy: 0.8907442220502045\n"
     ]
    }
   ],
   "source": [
    "from sklearn.ensemble import RandomForestClassifier\n",
    "\n",
    "x = cleaned_df.drop(['y'], axis=1)\n",
    "y = cleaned_df['y']\n",
    "\n",
    "train_x, test_x, train_y, test_y = train_test_split(x, y, test_size=0.2, random_state=42)\n",
    "\n",
    "categorical_features = ['job', 'education', 'month']\n",
    "\n",
    "step1 = ColumnTransformer(transformers=[('col_tnf', OneHotEncoder(sparse_output=False, drop='first'), categorical_features)], remainder='passthrough')\n",
    "step2 = RandomForestClassifier(random_state=42)\n",
    "\n",
    "pipeline_rf = Pipeline([('step1', step1), ('step2', step2)])\n",
    "\n",
    "pipeline_rf.fit(train_x, train_y)\n",
    "\n",
    "pred_y_rf = pipeline_rf.predict(test_x)\n",
    "\n",
    "print(f\"Random Forest Accuracy: {accuracy_score(test_y, pred_y_rf)}\")"
   ]
  }
 ],
 "metadata": {
  "language_info": {
   "name": "python"
  }
 },
 "nbformat": 4,
 "nbformat_minor": 2
}
